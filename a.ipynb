{
 "cells": [
  {
   "cell_type": "code",
   "execution_count": 2,
   "metadata": {},
   "outputs": [],
   "source": [
    "import numpy as np\n",
    "import pandas as pd\n",
    "import subprocess\n",
    "import glob"
   ]
  },
  {
   "cell_type": "code",
   "execution_count": null,
   "metadata": {},
   "outputs": [],
   "source": [
    "df = pd.read_csv(\"/scratch/network/cs9095/FinalProject/eQTL_joint.csv.gz\")\n",
    "df = df.rename(columns={\"beta_1.x\": \"beta_0\", \"SE_1.x\": \"SE_0\", \"pvalue_1.x\": \"pvalue_0\", \"beta_1.y\": \"beta_1\", \"SE_1.y\": \"SE_1\", \"pvalue_1.y\": \"pvalue_1\"})"
   ]
  },
  {
   "cell_type": "code",
   "execution_count": 16,
   "metadata": {},
   "outputs": [],
   "source": [
    "# GWAS cleaning\n",
    "df = pd.read_csv(\"GCST90093109_buildGRCh37.tsv.gz\",sep=\"\\t\")\n",
    "df = df.drop(columns=[\"effect_allele_frequency\", \"p_value\"])\n",
    "df[\"variant_id\"] = \"chr\" + df.chromosome.astype(\"string\") + \"_\" + df.base_pair_location.astype(\"string\") + \"_\" + df.other_allele.str.upper() + \"_\" + df.effect_allele.str.upper()\n",
    "\n",
    "df = df.rename(columns={\"standard_error\": \"SE\"})\n",
    "df[[\"variant_id\", \"beta\", \"SE\"]].to_csv(\"GWAS_cleaned.tsv\", sep=\"\\t\", index=False)"
   ]
  },
  {
   "cell_type": "code",
   "execution_count": 3,
   "metadata": {},
   "outputs": [],
   "source": [
    "# ENSEMBL codes for genes of interest\n",
    "df_sa = pd.read_csv(\"GWAS_SA_assoc.tsv\",sep=\"\\t\")\n",
    "df_tw = pd.read_csv(\"GWAS_TW_assoc.tsv\",sep=\"\\t\")\n",
    "df_cn = pd.read_csv(\"GWAS_CN_assoc.tsv\",sep=\"\\t\")\n",
    "\n",
    "ensembl_genes = []\n",
    "for df in [df_sa, df_tw, df_cn]:\n",
    "    gene_ids = df.SNP_GENE_IDS.dropna().str.rsplit(\",\", expand=True)\n",
    "    if len(gene_ids.columns) > 1:\n",
    "        gene_ids = gene_ids[0].tolist() + gene_ids[1].dropna().str.strip().tolist()\n",
    "        ensembl_genes += np.unique(df.UPSTREAM_GENE_ID.dropna().tolist() + df.DOWNSTREAM_GENE_ID.dropna().tolist() + gene_ids).tolist()\n",
    "    else:\n",
    "        ensembl_genes += np.unique(df.UPSTREAM_GENE_ID.dropna().tolist() + df.DOWNSTREAM_GENE_ID.dropna().tolist() + gene_ids[0].tolist()).tolist()\n",
    "\n",
    "ensembl_genes = np.unique(ensembl_genes)\n",
    "\n",
    "pd.DataFrame(ensembl_genes, columns=[\"ENSEMBL\"]).to_csv(\"ENSEMBL_genes.tsv\", sep=\"\\t\", index=False)"
   ]
  },
  {
   "cell_type": "code",
   "execution_count": 4,
   "metadata": {},
   "outputs": [],
   "source": [
    "# Grab eQTL files\n",
    "df = pd.read_csv(\"tabix_ftp_paths.tsv\",sep=\"\\t\")\n",
    "df = df.loc[(df.tissue_label.isin(tissues)) & (df.quant_method == \"ge\")]\n",
    "# for i, j in df.iterrows():\n",
    "#     subprocess.run(f'curl {j.ftp_path} -O', shell=True)"
   ]
  }
 ],
 "metadata": {
  "kernelspec": {
   "display_name": "Python 3 (ipykernel)",
   "language": "python",
   "name": "python3"
  },
  "language_info": {
   "codemirror_mode": {
    "name": "ipython",
    "version": 3
   },
   "file_extension": ".py",
   "mimetype": "text/x-python",
   "name": "python",
   "nbconvert_exporter": "python",
   "pygments_lexer": "ipython3",
   "version": "3.11.4"
  }
 },
 "nbformat": 4,
 "nbformat_minor": 2
}
