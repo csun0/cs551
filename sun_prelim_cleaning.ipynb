{
 "cells": [
  {
   "cell_type": "code",
   "execution_count": 2,
   "metadata": {},
   "outputs": [],
   "source": [
    "import numpy as np\n",
    "import pandas as pd\n",
    "import subprocess\n",
    "import glob"
   ]
  },
  {
   "cell_type": "code",
   "execution_count": 1,
   "metadata": {},
   "outputs": [],
   "source": [
    "# Grab eQTL files\n",
    "df = pd.read_csv(\"eQTL_data/tabix_ftp_paths.tsv\",sep=\"\\t\")\n",
    "df = df.loc[(df.tissue_label.isin(tissues)) & (df.quant_method == \"ge\")]\n",
    "# for i, j in df.iterrows():\n",
    "#     subprocess.run(f'curl {j.ftp_path} -O', shell=True)"
   ]
  },
  {
   "cell_type": "code",
   "execution_count": null,
   "metadata": {},
   "outputs": [],
   "source": [
    "# GWAS cleaning\n",
    "df = pd.read_csv(\"GWAS_data/GWAS_SA.tsv.gz\",sep=\"\\t\")\n",
    "df = df.drop(columns=[\"effect_allele_frequency\", \"p_value\"])\n",
    "df[\"variant_id\"] = \"chr\" + df.chromosome.astype(\"string\") + \"_\" + df.base_pair_location.astype(\"string\") + \"_\" + df.other_allele.str.upper() + \"_\" + df.effect_allele.str.upper()\n",
    "\n",
    "df = df.rename(columns={\"standard_error\": \"SE\"})\n",
    "df[[\"variant_id\", \"beta\", \"SE\"]].to_csv(\"GWAS_data/GWAS_cleaned.tsv.gz\", sep=\"\\t\", index=False)"
   ]
  },
  {
   "cell_type": "code",
   "execution_count": 3,
   "metadata": {},
   "outputs": [],
   "source": [
    "# GWAS DROPNA\n",
    "gwas_df = pd.read_csv(\"/scratch/network/cs9095/cs551/GWAS_data/GWAS_SA.tsv.gz\", sep=\"\\t\")\n",
    "gwas_df = gwas_df.dropna()\n",
    "gwas_df = gwas_df[[\"variant_id\", \"beta\", \"standard_error\", \"p_value\"]]\n",
    "gwas_df.columns = [\"rsid\", \"beta_gwas\", \"se_gwas\", \"pval_gwas\"]\n",
    "gwas_df.to_csv(\"GWAS_data/GWAS_SA_dropna.tsv.gz\", index=False, sep=\"\\t\")"
   ]
  },
  {
   "cell_type": "code",
   "execution_count": null,
   "metadata": {},
   "outputs": [],
   "source": [
    "gwas_df = pd.read_csv(\"/scratch/network/cs9095/cs551/GWAS_data/GWAS_SA.tsv.gz\", sep=\"\\t\")"
   ]
  },
  {
   "cell_type": "code",
   "execution_count": null,
   "metadata": {},
   "outputs": [],
   "source": [
    "# ENSEMBL codes for genes of interest\n",
    "df_sa = pd.read_csv(\"GWAS_data/GWAS_SA_assoc.tsv\",sep=\"\\t\")\n",
    "df_tw = pd.read_csv(\"GWAS_data/GWAS_TW_assoc.tsv\",sep=\"\\t\")\n",
    "df_cn = pd.read_csv(\"GWAS_data/GWAS_CN_assoc.tsv\",sep=\"\\t\")\n",
    "\n",
    "ensembl_genes = []\n",
    "for df in [df_sa, df_tw, df_cn]:\n",
    "    gene_ids = df.SNP_GENE_IDS.dropna().str.rsplit(\",\", expand=True)\n",
    "    if len(gene_ids.columns) > 1:\n",
    "        gene_ids = gene_ids[0].tolist() + gene_ids[1].dropna().str.strip().tolist()\n",
    "        ensembl_genes += np.unique(df.UPSTREAM_GENE_ID.dropna().tolist() + df.DOWNSTREAM_GENE_ID.dropna().tolist() + gene_ids).tolist()\n",
    "    else:\n",
    "        ensembl_genes += np.unique(df.UPSTREAM_GENE_ID.dropna().tolist() + df.DOWNSTREAM_GENE_ID.dropna().tolist() + gene_ids[0].tolist()).tolist()\n",
    "\n",
    "ensembl_genes = np.unique(ensembl_genes)\n",
    "\n",
    "pd.DataFrame(ensembl_genes, columns=[\"ENSEMBL\"]).to_csv(\"GWAS_data/ENSEMBL_genes.tsv\", sep=\"\\t\", index=False)"
   ]
  }
 ],
 "metadata": {
  "kernelspec": {
   "display_name": "Python 3",
   "language": "python",
   "name": "python3"
  },
  "language_info": {
   "codemirror_mode": {
    "name": "ipython",
    "version": 3
   },
   "file_extension": ".py",
   "mimetype": "text/x-python",
   "name": "python",
   "nbconvert_exporter": "python",
   "pygments_lexer": "ipython3",
   "version": "3.11.4"
  }
 },
 "nbformat": 4,
 "nbformat_minor": 2
}
