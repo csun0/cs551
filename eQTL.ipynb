{
 "cells": [
  {
   "cell_type": "code",
   "execution_count": null,
   "id": "88415d87",
   "metadata": {},
   "outputs": [],
   "source": [
    "import pandas as pd\n",
    "import numpy as np\n",
    "import seaborn as sns\n",
    "import matplotlib.pyplot as plt"
   ]
  },
  {
   "cell_type": "code",
   "execution_count": null,
   "id": "db2d85fa",
   "metadata": {},
   "outputs": [],
   "source": [
    "df = pd.read_csv(\"/scratch/network/cs9095/cs551/eQTL_data/eQTL_joint.tsv.gz\", sep=\"\\t\")\n",
    "genes = pd.read_csv(\"/scratch/network/cs9095/cs551/GWAS_data/ENSEMBL_genes.tsv\").ENSEMBL.to_list()"
   ]
  },
  {
   "cell_type": "code",
   "execution_count": null,
   "id": "50578224",
   "metadata": {},
   "outputs": [],
   "source": [
    "blist, plist, slist = [], [], []\n",
    "for i in range(15):\n",
    "    blist.append(f\"beta_{i}\")\n",
    "    plist.append(f\"pvalue_{i}\")  \n",
    "    slist.append(f\"SE_{i}\")\n",
    "    \n",
    "tlist = []\n",
    "for i in range(15):\n",
    "    tlist.append([f\"beta_{i}\", f\"SE_{i}\", f\"pvalue_{i}\"])"
   ]
  },
  {
   "cell_type": "code",
   "execution_count": null,
   "id": "9c9d9f5b",
   "metadata": {
    "scrolled": false
   },
   "outputs": [],
   "source": [
    "# SNP filtering:\n",
    "\n",
    "goi = []\n",
    "signs = []\n",
    "pvals = [0.1, 0.05, 0.01]\n",
    "\n",
    "for p in pvals:\n",
    "    g_temp = []\n",
    "    s_temp = []\n",
    "\n",
    "    for gene in genes:\n",
    "        sub_df = df.loc[(df.gene_id == gene)]\n",
    "        for beta, pval in zip(blist, plist):\n",
    "            \n",
    "            # 1 == positive, 2 == negative\n",
    "            sub_df.loc[:,beta] = [1 if i else 2 for i in sub_df[beta].ge(0).tolist()] \n",
    "            # only take p-values less than 1e-3\n",
    "            sub_df.loc[:,pval] = [int(i) for i in sub_df[pval].le(p).tolist()] \n",
    "            \n",
    "        sub_df = sub_df.drop(columns=slist)\n",
    "        sub_df = sub_df.reset_index()\n",
    "    \n",
    "        # baesd on pval element-wise erase non-signif.\n",
    "        con = pd.DataFrame(sub_df[plist].to_numpy() * sub_df[blist].to_numpy())  \n",
    "        con[[\"pos\", \"neg\"]] = 0\n",
    "        con.pos = con.isin([1]).sum(axis=1).tolist()\n",
    "        con.neg = con.isin([2]).sum(axis=1).tolist()\n",
    "        \n",
    "        # take only if 3+ tissues agree in the same direction\n",
    "        if np.sum(con.pos >= 3) > np.sum(con.neg >= 3): \n",
    "            ind = con[(con.pos >= 3)].index\n",
    "            sign = 1\n",
    "        else:\n",
    "            ind = con[(con.neg >= 3)].index\n",
    "            sign = -1\n",
    "        if not sub_df.iloc[ind].empty:\n",
    "            g_temp.append(gene)\n",
    "            s_temp.append(sign)\n",
    "    goi.append(g_temp)\n",
    "    signs.append(s_temp)    "
   ]
  },
  {
   "cell_type": "code",
   "execution_count": null,
   "id": "42d5e787",
   "metadata": {},
   "outputs": [],
   "source": [
    "# Does the confidence threshold alter the number of genes selected?\n",
    "[len(i) for i in goi] \n",
    "# ^ [16, 16, 15]: Only in the last threshold drop\n",
    "\n",
    "# Are the 16 genes in the 0.1 set and 0.05 set the same?\n",
    "goi[0] == goi[1] \n",
    "# ^ True: the genes in 0.1 and 0.05 are identical\n",
    "\n",
    "# Are the genes in the 0.01 set all in the 0.05 set?\n",
    "[gene in goi[1] for gene in goi[2]] \n",
    "# ^ [True...True]: the genes in 0.01 are all in 0.05\n",
    "\n",
    "# Which gene was droppped?\n",
    "[gene for gene in goi[1] if (not gene in goi[2])] \n",
    "# ^ ENSG00000073792: insulin like growth factor 2 mRNA binding protein 2"
   ]
  },
  {
   "cell_type": "code",
   "execution_count": null,
   "id": "37dcd70e",
   "metadata": {},
   "outputs": [],
   "source": [
    "# Setup confidence threshold analysis dataframe\n",
    "total = pd.DataFrame()\n",
    "for i, j, p in zip(goi, signs, pvals):\n",
    "    oi = pd.DataFrame()\n",
    "    oi[\"gene\"] = [item for item in i]\n",
    "    oi[f\"sign\"] = [1 if item == \"pos\" else -1 for item in j]\n",
    "    oi[\"pval\"] = str(p)\n",
    "    total = pd.concat([total, oi])    "
   ]
  },
  {
   "cell_type": "code",
   "execution_count": null,
   "id": "633a1141",
   "metadata": {},
   "outputs": [],
   "source": [
    "# Does the confidence threshold alter the consenus sign of signifcant betas? \n",
    "\n",
    "fig, axes = plt.subplots(int(len(total.gene.unique())/4),4, figsize=(15,15), dpi=120, \n",
    "                         sharey=True, sharex=True)\n",
    "axes = np.ravel(axes)\n",
    "\n",
    "for gene, ax in zip(total.gene.unique(), axes):\n",
    "    sns.pointplot(data=total[total.gene == gene], x=\"pval\", y=\"sign\", hue=\"gene\", \n",
    "                  palette=\"pastel\", ax=ax)\n",
    "plt.savefig(\"/scratch/network/cs9095/cs551/figures/sign_changes.png\")"
   ]
  },
  {
   "cell_type": "markdown",
   "id": "15a05c27",
   "metadata": {},
   "source": [
    "---"
   ]
  },
  {
   "cell_type": "code",
   "execution_count": null,
   "id": "e6e3f6ca",
   "metadata": {
    "scrolled": false
   },
   "outputs": [],
   "source": [
    "# Plots of eQTL data for signficant Genes: \n",
    "\n",
    "# abs. beta , and neg. log of p_value\n",
    "# large abs betas roughly correlated with signifcance\n",
    "# however, discrepancies can be attributed ot differences in the mag of the est. SE\n",
    "# this is accoutned for in our model, whihc is a weighted mix-effects model.\n",
    "# this emphasies taking into accoutn estimatation uncertaintiyh in our model.\n",
    "\n",
    "fig, axes = plt.subplots(len(goi),2,figsize=(15,50), dpi=100)\n",
    "axes = np.ravel(axes)\n",
    "    \n",
    "for gene, a, b in zip(goi, axes[::2], axes[1::2]):\n",
    "    at = pd.read_csv(f\"/scratch/network/cs9095/cs551/eQTL_data/eQTL_genes/eQTL_{gene}.tsv.gz\", sep=\"\\t\")\n",
    "    at = at.drop(columns=[\"gene_id\"])\n",
    "    at = at.set_index([\"variant_id\"])\n",
    "    sns.heatmap(data=at[blist].T.apply(np.absolute), ax=a, cmap=\"RdPu\")\n",
    "    sns.heatmap(data=at[plist].T.apply(np.log).apply(lambda x: x * -1), ax=b, cmap=\"RdPu\")\n",
    "    a.title.set_text(f'{gene} Betas')\n",
    "    b.title.set_text(f'{gene} P-values')\n",
    "\n",
    "plt.tight_layout()\n",
    "plt.savefig(f\"/scratch/network/cs9095/cs551/figures/sum_{gene}_beta_pval.png\")"
   ]
  }
 ],
 "metadata": {
  "kernelspec": {
   "display_name": "csun [~/.conda/envs/csun/]",
   "language": "python",
   "name": "conda_csun"
  },
  "language_info": {
   "codemirror_mode": {
    "name": "ipython",
    "version": 3
   },
   "file_extension": ".py",
   "mimetype": "text/x-python",
   "name": "python",
   "nbconvert_exporter": "python",
   "pygments_lexer": "ipython3",
   "version": "3.11.4"
  }
 },
 "nbformat": 4,
 "nbformat_minor": 5
}
